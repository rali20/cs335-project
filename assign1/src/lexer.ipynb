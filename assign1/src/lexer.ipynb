{
 "cells": [
  {
   "cell_type": "code",
   "execution_count": 156,
   "metadata": {},
   "outputs": [],
   "source": [
    "import ply.lex as lex\n",
    "from tokenizer import *\n",
    "import sys"
   ]
  },
  {
   "cell_type": "code",
   "execution_count": 157,
   "metadata": {},
   "outputs": [],
   "source": [
    "cfg_file = \"cfg.txt\"\n",
    "source_file = \"test1.go\"\n",
    "html_file = \"highlighted.html\""
   ]
  },
  {
   "cell_type": "code",
   "execution_count": 158,
   "metadata": {},
   "outputs": [],
   "source": [
    "lexer = lex.lex()"
   ]
  },
  {
   "cell_type": "code",
   "execution_count": 159,
   "metadata": {},
   "outputs": [],
   "source": [
    "with open(source_file) as sfp:\n",
    "    data = sfp.read()+\"\\n\""
   ]
  },
  {
   "cell_type": "code",
   "execution_count": 160,
   "metadata": {},
   "outputs": [],
   "source": [
    "lexer.input(data)"
   ]
  },
  {
   "cell_type": "code",
   "execution_count": 161,
   "metadata": {
    "scrolled": true
   },
   "outputs": [
    {
     "data": {
      "text/plain": [
       "<ply.lex.Lexer at 0x7fb810590e48>"
      ]
     },
     "execution_count": 161,
     "metadata": {},
     "output_type": "execute_result"
    }
   ],
   "source": [
    "lexer"
   ]
  },
  {
   "cell_type": "code",
   "execution_count": 162,
   "metadata": {},
   "outputs": [],
   "source": [
    "with open(cfg_file) as cfp:\n",
    "    token_colors = {}\n",
    "    for line in cfp:\n",
    "        line = line.strip().split(',')\n",
    "        token_colors[line[0]] = line[1]"
   ]
  },
  {
   "cell_type": "code",
   "execution_count": 163,
   "metadata": {
    "scrolled": true
   },
   "outputs": [
    {
     "data": {
      "text/plain": [
       "{'BREAK': 'blue',\n",
       " 'CASE': 'blue',\n",
       " 'CHAN': 'blue',\n",
       " 'CONST': 'blue',\n",
       " 'CONTINUE': 'blue',\n",
       " 'DEFAULT': 'blue',\n",
       " 'DEFER': 'blue',\n",
       " 'ELSE': 'blue',\n",
       " 'FALLTHROUGH': 'blue',\n",
       " 'FOR': 'blue',\n",
       " 'FUNC': 'blue',\n",
       " 'GO': 'blue',\n",
       " 'GOTO': 'blue',\n",
       " 'IMPORT': 'blue',\n",
       " 'INTERFACE': 'blue',\n",
       " 'MAP': 'blue',\n",
       " 'PACKAGE': 'blue',\n",
       " 'RANGE': 'blue',\n",
       " 'RETURN': 'blue',\n",
       " 'SELECT': 'blue',\n",
       " 'STRUCT': 'blue',\n",
       " 'SWITCH': 'blue',\n",
       " 'TYPE': 'blue',\n",
       " 'VAR': 'blue',\n",
       " 'ADD': 'brown',\n",
       " 'SUB': 'brown',\n",
       " 'MUL': 'brown',\n",
       " 'QUO': 'brown',\n",
       " 'REM': 'brown',\n",
       " 'AND': 'brown',\n",
       " 'OR': 'brown',\n",
       " 'XOR': 'brown',\n",
       " 'SHL': 'brown',\n",
       " 'SHR': 'brown',\n",
       " 'AND_NOT': 'brown',\n",
       " 'ADD_ASSIGN': 'brown',\n",
       " 'SUB_ASSIGN': 'brown',\n",
       " 'MUL_ASSIGN': 'brown',\n",
       " 'QUO_ASSIGN': 'brown',\n",
       " 'REM_ASSIGN': 'brown',\n",
       " 'AND_ASSIGN': 'brown',\n",
       " 'OR_ASSIGN': 'brown',\n",
       " 'XOR_ASSIGN': 'brown',\n",
       " 'SHL_ASSIGN': 'brown',\n",
       " 'SHR_ASSIGN': 'brown',\n",
       " 'AND_NOT_ASSIGN': 'brown',\n",
       " 'LAND': 'brown',\n",
       " 'LOR': 'brown',\n",
       " 'ARROW': 'brown',\n",
       " 'INC': 'brown',\n",
       " 'DEC': 'brown',\n",
       " 'EQL': 'brown',\n",
       " 'LSS': 'brown',\n",
       " 'GTR': 'brown',\n",
       " 'ASSIGN': 'brown',\n",
       " 'NOT': 'brown',\n",
       " 'NEQ': 'brown',\n",
       " 'LEQ': 'brown',\n",
       " 'GEQ': 'brown',\n",
       " 'DEFINE': 'brown',\n",
       " 'ELLIPSIS': 'brown',\n",
       " 'LPAREN': 'green',\n",
       " 'LBRACK': 'green',\n",
       " 'LBRACE': 'green',\n",
       " 'COMMA': 'brown',\n",
       " 'PERIOD': 'brown',\n",
       " 'RPAREN': 'green',\n",
       " 'RBRACK': 'green',\n",
       " 'RBRACE': 'green',\n",
       " 'SEMICOLON': 'brown',\n",
       " 'COLON': 'brown',\n",
       " 'IDENT': '',\n",
       " 'INT': 'red',\n",
       " 'OCTAL': 'red',\n",
       " 'HEX': 'red',\n",
       " 'FLOAT': 'red',\n",
       " 'IMAG': 'red',\n",
       " 'STRING': 'yellow',\n",
       " 'RUNE': 'yellow'}"
      ]
     },
     "execution_count": 163,
     "metadata": {},
     "output_type": "execute_result"
    }
   ],
   "source": [
    "token_colors"
   ]
  },
  {
   "cell_type": "code",
   "execution_count": 164,
   "metadata": {},
   "outputs": [
    {
     "name": "stdout",
     "output_type": "stream",
     "text": [
      "package\n",
      "funding\n",
      "type\n",
      "Fund\n",
      "struct\n",
      "{\n",
      "balance\n",
      "int\n",
      "}\n",
      "func\n",
      "NewFund\n",
      "(\n",
      "initialBalance\n",
      "int\n",
      ")\n",
      "*\n",
      "Fund\n",
      "{\n",
      "return\n",
      "&\n",
      "Fund\n",
      "{\n",
      "balance\n",
      ":\n",
      "initialBalance\n",
      ",\n",
      "}\n",
      "}\n",
      "func\n",
      "(\n",
      "f\n",
      "*\n",
      "Fund\n",
      ")\n",
      "Balance\n",
      "(\n",
      ")\n",
      "int\n",
      "{\n",
      "return\n",
      "f\n",
      ".\n",
      "balance\n",
      "}\n",
      "func\n",
      "(\n",
      "f\n",
      "*\n",
      "Fund\n",
      ")\n",
      "Withdraw\n",
      "(\n",
      "amount\n",
      "int\n",
      ")\n",
      "{\n",
      "f\n",
      ".\n",
      "balance\n",
      "-=\n",
      "amount\n",
      "}\n"
     ]
    }
   ],
   "source": [
    "html_str = '''<!DOCTYPE html>\\n<html>\\n<head>\\n<title>Token Highlighting</title>\\n</head>\\n<body>\\n'''\n",
    "for token in lexer:\n",
    "    print(token.value)\n",
    "    html_str += '<span style=\"color:{};\">{}</span>\\n'.format(token_colors[token.type], token.value)\n",
    "html_str += '''\\n</body>\\n</html>\\n'''"
   ]
  },
  {
   "cell_type": "code",
   "execution_count": 165,
   "metadata": {},
   "outputs": [
    {
     "data": {
      "text/plain": [
       "\"package funding\\n\\ntype Fund struct {\\n    // balance is unexported (private), because it's lowercase\\n    balance int\\n}\\n\\n// A regular function returning a pointer to a fund\\nfunc NewFund(initialBalance int) *Fund {\\n    // We can return a pointer to a new struct without worrying about\\n    // whether it's on the stack or heap: Go figures that out for us.\\n    return &Fund{\\n        balance: initialBalance,\\n    }\\n}\\n\\n// Methods start with a *receiver*, in this case a Fund pointer\\nfunc (f *Fund) Balance() int {\\n    return f.balance\\n}\\n\\nfunc (f *Fund) Withdraw(amount int) {\\n    f.balance -= amount\\n}\\n\""
      ]
     },
     "execution_count": 165,
     "metadata": {},
     "output_type": "execute_result"
    }
   ],
   "source": [
    "data"
   ]
  },
  {
   "cell_type": "code",
   "execution_count": 166,
   "metadata": {},
   "outputs": [
    {
     "data": {
      "text/plain": [
       "'<!DOCTYPE html>\\n<html>\\n<head>\\n<title>Token Highlighting</title>\\n</head>\\n<body>\\n<span style=\"color:blue;\">package</span>\\n<span style=\"color:;\">funding</span>\\n<span style=\"color:blue;\">type</span>\\n<span style=\"color:;\">Fund</span>\\n<span style=\"color:blue;\">struct</span>\\n<span style=\"color:green;\">{</span>\\n<span style=\"color:;\">balance</span>\\n<span style=\"color:;\">int</span>\\n<span style=\"color:green;\">}</span>\\n<span style=\"color:blue;\">func</span>\\n<span style=\"color:;\">NewFund</span>\\n<span style=\"color:green;\">(</span>\\n<span style=\"color:;\">initialBalance</span>\\n<span style=\"color:;\">int</span>\\n<span style=\"color:green;\">)</span>\\n<span style=\"color:brown;\">*</span>\\n<span style=\"color:;\">Fund</span>\\n<span style=\"color:green;\">{</span>\\n<span style=\"color:blue;\">return</span>\\n<span style=\"color:brown;\">&</span>\\n<span style=\"color:;\">Fund</span>\\n<span style=\"color:green;\">{</span>\\n<span style=\"color:;\">balance</span>\\n<span style=\"color:brown;\">:</span>\\n<span style=\"color:;\">initialBalance</span>\\n<span style=\"color:brown;\">,</span>\\n<span style=\"color:green;\">}</span>\\n<span style=\"color:green;\">}</span>\\n<span style=\"color:blue;\">func</span>\\n<span style=\"color:green;\">(</span>\\n<span style=\"color:;\">f</span>\\n<span style=\"color:brown;\">*</span>\\n<span style=\"color:;\">Fund</span>\\n<span style=\"color:green;\">)</span>\\n<span style=\"color:;\">Balance</span>\\n<span style=\"color:green;\">(</span>\\n<span style=\"color:green;\">)</span>\\n<span style=\"color:;\">int</span>\\n<span style=\"color:green;\">{</span>\\n<span style=\"color:blue;\">return</span>\\n<span style=\"color:;\">f</span>\\n<span style=\"color:brown;\">.</span>\\n<span style=\"color:;\">balance</span>\\n<span style=\"color:green;\">}</span>\\n<span style=\"color:blue;\">func</span>\\n<span style=\"color:green;\">(</span>\\n<span style=\"color:;\">f</span>\\n<span style=\"color:brown;\">*</span>\\n<span style=\"color:;\">Fund</span>\\n<span style=\"color:green;\">)</span>\\n<span style=\"color:;\">Withdraw</span>\\n<span style=\"color:green;\">(</span>\\n<span style=\"color:;\">amount</span>\\n<span style=\"color:;\">int</span>\\n<span style=\"color:green;\">)</span>\\n<span style=\"color:green;\">{</span>\\n<span style=\"color:;\">f</span>\\n<span style=\"color:brown;\">.</span>\\n<span style=\"color:;\">balance</span>\\n<span style=\"color:brown;\">-=</span>\\n<span style=\"color:;\">amount</span>\\n<span style=\"color:green;\">}</span>\\n\\n</body>\\n</html>\\n'"
      ]
     },
     "execution_count": 166,
     "metadata": {},
     "output_type": "execute_result"
    }
   ],
   "source": [
    "html_str"
   ]
  },
  {
   "cell_type": "code",
   "execution_count": 167,
   "metadata": {},
   "outputs": [],
   "source": [
    "with open(html_file,\"w\") as h:\n",
    "    h.write(html_str)"
   ]
  },
  {
   "cell_type": "code",
   "execution_count": null,
   "metadata": {},
   "outputs": [],
   "source": []
  },
  {
   "cell_type": "code",
   "execution_count": null,
   "metadata": {},
   "outputs": [],
   "source": []
  }
 ],
 "metadata": {
  "kernelspec": {
   "display_name": "Python 3",
   "language": "python",
   "name": "python3"
  },
  "language_info": {
   "codemirror_mode": {
    "name": "ipython",
    "version": 3
   },
   "file_extension": ".py",
   "mimetype": "text/x-python",
   "name": "python",
   "nbconvert_exporter": "python",
   "pygments_lexer": "ipython3",
   "version": "3.6.7"
  }
 },
 "nbformat": 4,
 "nbformat_minor": 2
}
